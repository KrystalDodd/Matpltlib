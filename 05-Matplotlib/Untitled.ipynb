{
 "cells": [
  {
   "cell_type": "code",
   "execution_count": null,
   "metadata": {},
   "outputs": [],
   "source": [
    "# Dependencies and Setup\n",
    "import matplotlib.pyplot as plt\n",
    "import pandas as pd\n",
    "import scipy.stats as st\n",
    "import numpy as np\n",
    "\n",
    "# Study data files\n",
    "mouse_metadata_path = \"data/Mouse_metadata.csv\"\n",
    "study_results_path = \"data/Study_results.csv\"\n",
    "\n",
    "# Read the mouse data and the study results\n",
    "mouse_metadata = pd.read_csv(mouse_metadata_path)\n",
    "study_results = pd.read_csv(study_results_path)\n",
    "\n",
    "# Combine the data into a single dataset\n",
    "merged_data = pd.merge(mouse_metadata, study_results, on=\"Mouse ID\", how=\"outer\")\n",
    "\n",
    "# Display the data table for preview\n",
    "merged_data"
   ]
  },
  {
   "cell_type": "code",
   "execution_count": null,
   "metadata": {},
   "outputs": [],
   "source": [
    "# Checking the number of mice.\n",
    "count = merged_data.index\n",
    "number_of_rows = len(count)\n",
    "print(number_of_rows)"
   ]
  },
  {
   "cell_type": "code",
   "execution_count": null,
   "metadata": {},
   "outputs": [],
   "source": [
    "# Getting the duplicate mice by ID number that shows up for Mouse ID and Timepoint. \n",
    "merged_data[merged_data.duplicated(['Mouse ID', 'Timepoint'], keep=False)]"
   ]
  },
  {
   "cell_type": "code",
   "execution_count": null,
   "metadata": {},
   "outputs": [],
   "source": [
    "# Optional: Get all the data for the duplicate mouse ID. \n",
    "clean_data = merged_data[merged_data.duplicated(['Mouse ID'], keep=False)]"
   ]
  },
  {
   "cell_type": "code",
   "execution_count": null,
   "metadata": {},
   "outputs": [],
   "source": [
    "# Create a clean DataFrame by dropping the duplicate mouse by its ID.\n",
    "clean_data_mouse = merged_data.drop_duplicates(subset=['Mouse ID'])\n",
    "clean_data_mouse"
   ]
  },
  {
   "cell_type": "code",
   "execution_count": null,
   "metadata": {},
   "outputs": [],
   "source": [
    "# Checking the number of mice in the clean DataFrame.\n",
    "\n",
    "count = clean_data.index\n",
    "number_of_rows = len(count)\n",
    "print(number_of_rows)"
   ]
  },
  {
   "cell_type": "code",
   "execution_count": null,
   "metadata": {},
   "outputs": [],
   "source": [
    "# Generate a summary statistics table of mean, median, variance, standard deviation, and SEM of the tumor volume for each regimen\n",
    "\n",
    "# Use groupby and summary statistical methods to calculate the following properties of each drug regimen: \n",
    "# mean, median, variance, standard deviation, and SEM of the tumor volume. \n",
    "# Assemble the resulting series into a single summary dataframe.\n",
    "\n",
    "\n",
    "regimen_group = clean_data.groupby(\"Drug Regimen\")\n",
    "\n",
    "\n",
    "average_tumor = regimen_group[\"Tumor Volume (mm3)\"].mean()\n",
    "median_tumor = regimen_group[\"Tumor Volume (mm3)\"].median()\n",
    "variance_tumor = regimen_group[\"Tumor Volume (mm3)\"].var()\n",
    "std_tumor = regimen_group[\"Tumor Volume (mm3)\"].std()\n",
    "sem_tumor = regimen_group[\"Tumor Volume (mm3)\"].sem()\n",
    "\n",
    "statistics_summary_df= pd.DataFrame({\n",
    "    \"Average Tumor\":average_tumor,\n",
    "    \"Median Tumor\":median_tumor,\n",
    "    \"Variance Tumor\":variance_tumor,\n",
    "    \"STD of Tumor\":std_tumor,\n",
    "    \"SEM Tumor\":sem_tumor\n",
    "    \n",
    "})\n",
    "\n",
    "statistics_summary_df\n",
    "\n"
   ]
  },
  {
   "cell_type": "code",
   "execution_count": null,
   "metadata": {},
   "outputs": [],
   "source": [
    "# Generate a summary statistics table of mean, median, variance, standard deviation, and SEM of the tumor volume for each regimen\n",
    "\n",
    "# Using the aggregation method, produce the same summary statistics in a single line\n",
    "\n",
    "aggregate_data = statistics_summary_df.agg({'Average Tumor': ['mean'], 'Median Tumor': ['median'], 'Variance Tumor': ['var'], 'STD of Tumor': ['std'],'SEM Tumor': ['sem']})\n",
    "aggregate_data"
   ]
  },
  {
   "cell_type": "code",
   "execution_count": null,
   "metadata": {},
   "outputs": [],
   "source": [
    "# Generate a bar plot showing the total number of measurements taken on each drug regimen using pandas.\n",
    "\n",
    "\n",
    "#pandas_barchart\n",
    "\n",
    "\n",
    "drug_counts =regimen_group[\"Tumor Volume (mm3)\"] .count()\n",
    "drug_counts"
   ]
  },
  {
   "cell_type": "code",
   "execution_count": null,
   "metadata": {},
   "outputs": [],
   "source": [
    "drug_chart = drug_counts.plot(kind=\"bar\", title=\"Total Mesured Tumors by Drug Count\")\n",
    "drug_chart.set_xlabel(\"Drug\")\n",
    "drug_chart.set_ylabel(\"Total Measured Tumors\")\n",
    "plt.show()\n",
    "plt.tight_layout()"
   ]
  },
  {
   "cell_type": "code",
   "execution_count": null,
   "metadata": {},
   "outputs": [],
   "source": [
    "# Generate a bar plot showing the total number of measurements taken on each drug regimen using pyplot.\n",
    "\n",
    "#x_axis = np.arange(len(clean_data))\n",
    "#tick_locations = [value+0.4 for value in x_axis]\n",
    "plt.figure(figsize=(20,3))\n",
    "plt.bar(drug_counts, alpha=0.5, align=\"edge\")"
   ]
  },
  {
   "cell_type": "code",
   "execution_count": null,
   "metadata": {},
   "outputs": [],
   "source": [
    "# Generate a pie plot showing the distribution of female versus male mice using pandas\n",
    "gender_groups = clean_data.groupby('Sex')\n",
    "gender_count = gender_groups[\"Sex\"] .count()\n",
    "\n",
    "gender_chart = gender_count.plot(kind=\"pie\", y =gender_count, title=\"Male/Female Mice\")\n",
    "gender_chart.set_ylabel(\"Mice Count\")\n",
    "plt.show()\n",
    "plt.axis(\"equal\")"
   ]
  },
  {
   "cell_type": "code",
   "execution_count": null,
   "metadata": {},
   "outputs": [],
   "source": [
    "# Generate a pie plot showing the distribution of female versus male mice using pyplot\n",
    "gender_count= gender_count\n",
    "\n",
    "labels = \"Sex\"\n",
    "plt.pie(gender_count)\n"
   ]
  },
  {
   "cell_type": "code",
   "execution_count": null,
   "metadata": {},
   "outputs": [],
   "source": [
    "# Calculate the final tumor volume of each mouse across four of the treatment regimens:  \n",
    "# Capomulin, Ramicane, Infubinol, and Ceftamin\n",
    "\n",
    "# Start by getting the last (greatest) timepoint for each mouse\n",
    "\n",
    "\n",
    "# Merge this group df with the original dataframe to get the tumor volume at the last timepoint\n"
   ]
  },
  {
   "cell_type": "code",
   "execution_count": null,
   "metadata": {},
   "outputs": [],
   "source": []
  }
 ],
 "metadata": {
  "kernelspec": {
   "display_name": "Python 3",
   "language": "python",
   "name": "python3"
  },
  "language_info": {
   "codemirror_mode": {
    "name": "ipython",
    "version": 3
   },
   "file_extension": ".py",
   "mimetype": "text/x-python",
   "name": "python",
   "nbconvert_exporter": "python",
   "pygments_lexer": "ipython3",
   "version": "3.8.3"
  }
 },
 "nbformat": 4,
 "nbformat_minor": 4
}
